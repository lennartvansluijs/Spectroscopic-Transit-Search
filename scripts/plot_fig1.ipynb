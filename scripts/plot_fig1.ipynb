{
 "cells": [
  {
   "cell_type": "markdown",
   "metadata": {},
   "source": [
    "# Figure 1"
   ]
  },
  {
   "cell_type": "markdown",
   "metadata": {},
   "source": [
    "Run the steps below to generate the data and plot of Figure 1. As generating the data takes a while, one skip this step by inmediately running the last cell of this Jupyter notebook.\n",
    "\n",
    "**Lennart van Sluijs** // 2019 Jan 8 // Leiden Observatory // vansluijs@strw.leidenuniv.nl"
   ]
  },
  {
   "cell_type": "code",
   "execution_count": 7,
   "metadata": {},
   "outputs": [],
   "source": [
    "#!/usr/bin/env python3\n",
    "# -*- coding: utf-8 -*-\n",
    "\n",
    "import numpy as np\n",
    "from pir_class import *\n",
    "from sts_class import *"
   ]
  },
  {
   "cell_type": "markdown",
   "metadata": {},
   "source": [
    "# Initialize Spectral Time Series\n",
    "Create a Spectral Time Series from the Beta Pictoris UVES data for the right observation window."
   ]
  },
  {
   "cell_type": "code",
   "execution_count": 5,
   "metadata": {},
   "outputs": [],
   "source": [
    "sts = SpectralTimeSeries()\n",
    "sts.init_from_obs('../data', '../output/figure1/sts_init')\n",
    "sts.remove_NaN()\n",
    "sts.save('../output/figure1/sts_data', 'sts')"
   ]
  },
  {
   "cell_type": "markdown",
   "metadata": {},
   "source": [
    "# Planet injection routine\n",
    "Simulate lineprofiles and run planet injection routine."
   ]
  },
  {
   "cell_type": "code",
   "execution_count": null,
   "metadata": {},
   "outputs": [],
   "source": [
    "# reload spectral time series\n",
    "sts = SpectralTimeSeries() \n",
    "sts.load('../output/figure1/sts_data', 'sts')\n",
    "\n",
    "# parameters for the planet injection routine\n",
    "Rp = np.linspace(0.1, 1.0, 10) # planet radii injected [Rjup]\n",
    "b = np.linspace(0, 1.0, 1) # impact parameter injected\n",
    "A = 0.8 # intrinsic line depth\n",
    "theta = 0 # spin-orbit misalignment\n",
    "mode = 'wn' # planet injection routine in white-noise (wn) mode\n",
    "spectsnr = 1200 # spectral SNR used for the white noise simulation\n",
    "outputfolder = '../output/figure1/pir_wn' # outputfolder\n",
    "veq = 130 # v sin i Beta Pic [km/s]\n",
    "x0 = np.array([-200., -120., -100., -80., -60., -40., -20., 0., 20.,\n",
    "          40., 60., 80., 100., 120., 200.])/veq # positions in front of star\n",
    "snrlim = 3.0 # limit for the sensitivity adopted\n",
    "        \n",
    "# run planet injection routine\n",
    "pir = PlanetInjectionRoutine(Rp, b, A, theta, x0, outputfolder,\n",
    "                             sts, mode, spectsnr)"
   ]
  },
  {
   "cell_type": "markdown",
   "metadata": {},
   "source": [
    "The following step takes about ten minutes to run on my personal laptop."
   ]
  },
  {
   "cell_type": "code",
   "execution_count": 1,
   "metadata": {},
   "outputs": [
    {
     "ename": "NameError",
     "evalue": "name 'pir' is not defined",
     "output_type": "error",
     "traceback": [
      "\u001b[0;31m---------------------------------------------------------------------------\u001b[0m",
      "\u001b[0;31mNameError\u001b[0m                                 Traceback (most recent call last)",
      "\u001b[0;32m<ipython-input-1-21d569d4ab54>\u001b[0m in \u001b[0;36m<module>\u001b[0;34m\u001b[0m\n\u001b[0;32m----> 1\u001b[0;31m \u001b[0mpir\u001b[0m\u001b[0;34m.\u001b[0m\u001b[0mrunsim\u001b[0m\u001b[0;34m(\u001b[0m\u001b[0;34m)\u001b[0m \u001b[0;31m# simulate lineprofiles\u001b[0m\u001b[0;34m\u001b[0m\u001b[0;34m\u001b[0m\u001b[0m\n\u001b[0m\u001b[1;32m      2\u001b[0m \u001b[0mpir\u001b[0m\u001b[0;34m.\u001b[0m\u001b[0mruninj\u001b[0m\u001b[0;34m(\u001b[0m\u001b[0mplot\u001b[0m \u001b[0;34m=\u001b[0m \u001b[0;32mFalse\u001b[0m\u001b[0;34m)\u001b[0m \u001b[0;31m# inject exoplanet signals\u001b[0m\u001b[0;34m\u001b[0m\u001b[0;34m\u001b[0m\u001b[0m\n\u001b[1;32m      3\u001b[0m \u001b[0mpir\u001b[0m\u001b[0;34m.\u001b[0m\u001b[0mgetstats\u001b[0m\u001b[0;34m(\u001b[0m\u001b[0;34m)\u001b[0m \u001b[0;31m# get snr\u001b[0m\u001b[0;34m\u001b[0m\u001b[0;34m\u001b[0m\u001b[0m\n",
      "\u001b[0;31mNameError\u001b[0m: name 'pir' is not defined"
     ]
    }
   ],
   "source": [
    "pir.runsim() # simulate lineprofiles\n",
    "pir.runinj(plot = False) # inject exoplanet signals\n",
    "pir.getstats() # get snr"
   ]
  },
  {
   "cell_type": "markdown",
   "metadata": {},
   "source": [
    "# Plot and save final result"
   ]
  },
  {
   "cell_type": "code",
   "execution_count": 11,
   "metadata": {},
   "outputs": [
    {
     "data": {
      "image/png": "[encoded data removed]",
      "text/plain": [
       "<Figure size 432x288 with 2 Axes>"
      ]
     },
     "metadata": {
      "needs_background": "light"
     },
     "output_type": "display_data"
    }
   ],
   "source": [
    "pir.plot_sensitivity(snrlim, veq) # create sensitivity plot\n",
    "\n",
    "# save and show Figure 1\n",
    "plt.savefig('../output/figure1/figure1.png', dpi = 300)\n",
    "plt.savefig('../output/figure1/figure1.pdf')\n",
    "plt.show()"
   ]
  },
  {
   "cell_type": "code",
   "execution_count": null,
   "metadata": {},
   "outputs": [],
   "source": []
  }
 ],
 "metadata": {
  "kernelspec": {
   "display_name": "Python 3",
   "language": "python",
   "name": "python3"
  },
  "language_info": {
   "codemirror_mode": {
    "name": "ipython",
    "version": 3
   },
   "file_extension": ".py",
   "mimetype": "text/x-python",
   "name": "python",
   "nbconvert_exporter": "python",
   "pygments_lexer": "ipython3",
   "version": "3.6.7"
  }
 },
 "nbformat": 4,
 "nbformat_minor": 2
}
